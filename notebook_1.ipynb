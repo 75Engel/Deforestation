{
 "cells": [
  {
   "cell_type": "markdown",
   "metadata": {},
   "source": [
    "# Librerias"
   ]
  },
  {
   "cell_type": "code",
   "execution_count": 4,
   "metadata": {},
   "outputs": [],
   "source": [
    "import numpy as np\n",
    "import pandas as pd \n",
    "import matplotlib.pyplot as plt\n",
    "from keras.preprocessing.image import ImageDataGenerator#, #load_img\n",
    "from sklearn.model_selection import train_test_split\n",
    "import matplotlib.pyplot as plt\n",
    "import os\n",
    "from skimage.io import imread\n",
    "import cv2 as cv\n",
    "import tensorflow as tf\n",
    "from tensorflow import keras\n",
    "from sklearn.metrics import accuracy_score,f1_score\n",
    "\n",
    "from keras.layers.core import Dense\n",
    "from keras.utils import to_categorical\n",
    "from keras.callbacks import EarlyStopping\n",
    "from keras.callbacks import ModelCheckpoint\n",
    "import json"
   ]
  },
  {
   "cell_type": "markdown",
   "metadata": {},
   "source": [
    "# Image Definition and some Model compositions for a  Deep Learning Model"
   ]
  },
  {
   "cell_type": "code",
   "execution_count": 73,
   "metadata": {},
   "outputs": [],
   "source": [
    "IMAGE_WIDTH=332\n",
    "IMAGE_HEIGHT=332\n",
    "IMAGE_CHANNELS=3\n",
    "IMAGE_SIZE=(IMAGE_WIDTH, IMAGE_HEIGHT, IMAGE_CHANNELS)\n",
    "BATCH_SIZE = 64\n",
    "EPOCHS = 40"
   ]
  },
  {
   "cell_type": "markdown",
   "metadata": {},
   "source": [
    "# Loading Datas "
   ]
  },
  {
   "cell_type": "code",
   "execution_count": 126,
   "metadata": {},
   "outputs": [],
   "source": [
    "os. getcwd()\n",
    "os.chdir('d://Bootcamp_22//NUWE//Zero_deforestation_mission')             # Confirm correct path for working"
   ]
  },
  {
   "cell_type": "code",
   "execution_count": 127,
   "metadata": {},
   "outputs": [
    {
     "data": {
      "text/plain": [
       "'d:\\\\Bootcamp_22\\\\NUWE\\\\Zero_deforestation_mission\\\\Data\\\\'"
      ]
     },
     "execution_count": 127,
     "metadata": {},
     "output_type": "execute_result"
    }
   ],
   "source": [
    "ROOT_PATH = os.getcwd()                                         # Selecting PATH where the training images are\n",
    "TRAIN_PATH = ROOT_PATH + \"\\\\Data\\\\\" \n",
    "TRAIN_PATH"
   ]
  },
  {
   "cell_type": "code",
   "execution_count": 128,
   "metadata": {},
   "outputs": [
    {
     "data": {
      "text/plain": [
       "'d:\\\\Bootcamp_22\\\\NUWE\\\\Zero_deforestation_mission\\\\Data\\\\'"
      ]
     },
     "execution_count": 128,
     "metadata": {},
     "output_type": "execute_result"
    }
   ],
   "source": [
    "ROOT_PATH = os.getcwd()                                     # Selecting PATH where the testing images are\n",
    "TEST_PATH = ROOT_PATH + \"\\\\Data\\\\\" \n",
    "TEST_PATH"
   ]
  },
  {
   "cell_type": "code",
   "execution_count": 10,
   "metadata": {},
   "outputs": [
    {
     "name": "stdout",
     "output_type": "stream",
     "text": [
      "<class 'pandas.core.frame.DataFrame'>\n",
      "RangeIndex: 1714 entries, 0 to 1713\n",
      "Data columns (total 5 columns):\n",
      " #   Column        Non-Null Count  Dtype  \n",
      "---  ------        --------------  -----  \n",
      " 0   label         1714 non-null   int64  \n",
      " 1   latitude      1714 non-null   float64\n",
      " 2   longitude     1714 non-null   float64\n",
      " 3   year          1714 non-null   int64  \n",
      " 4   example_path  1714 non-null   object \n",
      "dtypes: float64(2), int64(2), object(1)\n",
      "memory usage: 67.1+ KB\n"
     ]
    }
   ],
   "source": [
    "train_set = pd.read_csv(\"Data/train.csv\")                 # Loading train\n",
    "train_set.info()\n"
   ]
  },
  {
   "cell_type": "code",
   "execution_count": 16,
   "metadata": {},
   "outputs": [
    {
     "name": "stdout",
     "output_type": "stream",
     "text": [
      "<class 'pandas.core.frame.DataFrame'>\n",
      "RangeIndex: 635 entries, 0 to 634\n",
      "Data columns (total 4 columns):\n",
      " #   Column        Non-Null Count  Dtype  \n",
      "---  ------        --------------  -----  \n",
      " 0   latitude      635 non-null    float64\n",
      " 1   longitude     635 non-null    float64\n",
      " 2   year          635 non-null    int64  \n",
      " 3   example_path  635 non-null    object \n",
      "dtypes: float64(2), int64(1), object(1)\n",
      "memory usage: 20.0+ KB\n"
     ]
    }
   ],
   "source": [
    "test_set = pd.read_csv(\"Data/test.csv\")                 # Loading test\n",
    "test_set.info()"
   ]
  },
  {
   "cell_type": "code",
   "execution_count": 11,
   "metadata": {},
   "outputs": [
    {
     "data": {
      "text/html": [
       "<div>\n",
       "<style scoped>\n",
       "    .dataframe tbody tr th:only-of-type {\n",
       "        vertical-align: middle;\n",
       "    }\n",
       "\n",
       "    .dataframe tbody tr th {\n",
       "        vertical-align: top;\n",
       "    }\n",
       "\n",
       "    .dataframe thead th {\n",
       "        text-align: right;\n",
       "    }\n",
       "</style>\n",
       "<table border=\"1\" class=\"dataframe\">\n",
       "  <thead>\n",
       "    <tr style=\"text-align: right;\">\n",
       "      <th></th>\n",
       "      <th>label</th>\n",
       "      <th>latitude</th>\n",
       "      <th>longitude</th>\n",
       "      <th>year</th>\n",
       "    </tr>\n",
       "  </thead>\n",
       "  <tbody>\n",
       "    <tr>\n",
       "      <th>count</th>\n",
       "      <td>1714.000000</td>\n",
       "      <td>1714.000000</td>\n",
       "      <td>1714.000000</td>\n",
       "      <td>1714.000000</td>\n",
       "    </tr>\n",
       "    <tr>\n",
       "      <th>mean</th>\n",
       "      <td>0.882147</td>\n",
       "      <td>-0.458578</td>\n",
       "      <td>108.696539</td>\n",
       "      <td>2009.770712</td>\n",
       "    </tr>\n",
       "    <tr>\n",
       "      <th>std</th>\n",
       "      <td>0.933952</td>\n",
       "      <td>2.146293</td>\n",
       "      <td>9.136482</td>\n",
       "      <td>4.206081</td>\n",
       "    </tr>\n",
       "    <tr>\n",
       "      <th>min</th>\n",
       "      <td>0.000000</td>\n",
       "      <td>-8.318462</td>\n",
       "      <td>95.902427</td>\n",
       "      <td>2001.000000</td>\n",
       "    </tr>\n",
       "    <tr>\n",
       "      <th>25%</th>\n",
       "      <td>0.000000</td>\n",
       "      <td>-1.916629</td>\n",
       "      <td>101.627073</td>\n",
       "      <td>2007.000000</td>\n",
       "    </tr>\n",
       "    <tr>\n",
       "      <th>50%</th>\n",
       "      <td>0.000000</td>\n",
       "      <td>-0.417759</td>\n",
       "      <td>104.104074</td>\n",
       "      <td>2010.000000</td>\n",
       "    </tr>\n",
       "    <tr>\n",
       "      <th>75%</th>\n",
       "      <td>2.000000</td>\n",
       "      <td>1.062408</td>\n",
       "      <td>114.274851</td>\n",
       "      <td>2013.000000</td>\n",
       "    </tr>\n",
       "    <tr>\n",
       "      <th>max</th>\n",
       "      <td>2.000000</td>\n",
       "      <td>5.014370</td>\n",
       "      <td>140.900849</td>\n",
       "      <td>2016.000000</td>\n",
       "    </tr>\n",
       "  </tbody>\n",
       "</table>\n",
       "</div>"
      ],
      "text/plain": [
       "             label     latitude    longitude         year\n",
       "count  1714.000000  1714.000000  1714.000000  1714.000000\n",
       "mean      0.882147    -0.458578   108.696539  2009.770712\n",
       "std       0.933952     2.146293     9.136482     4.206081\n",
       "min       0.000000    -8.318462    95.902427  2001.000000\n",
       "25%       0.000000    -1.916629   101.627073  2007.000000\n",
       "50%       0.000000    -0.417759   104.104074  2010.000000\n",
       "75%       2.000000     1.062408   114.274851  2013.000000\n",
       "max       2.000000     5.014370   140.900849  2016.000000"
      ]
     },
     "execution_count": 11,
     "metadata": {},
     "output_type": "execute_result"
    }
   ],
   "source": [
    "train_set.describe()"
   ]
  },
  {
   "cell_type": "code",
   "execution_count": 12,
   "metadata": {},
   "outputs": [
    {
     "data": {
      "text/html": [
       "<div>\n",
       "<style scoped>\n",
       "    .dataframe tbody tr th:only-of-type {\n",
       "        vertical-align: middle;\n",
       "    }\n",
       "\n",
       "    .dataframe tbody tr th {\n",
       "        vertical-align: top;\n",
       "    }\n",
       "\n",
       "    .dataframe thead th {\n",
       "        text-align: right;\n",
       "    }\n",
       "</style>\n",
       "<table border=\"1\" class=\"dataframe\">\n",
       "  <thead>\n",
       "    <tr style=\"text-align: right;\">\n",
       "      <th></th>\n",
       "      <th>label</th>\n",
       "      <th>latitude</th>\n",
       "      <th>longitude</th>\n",
       "      <th>year</th>\n",
       "      <th>example_path</th>\n",
       "    </tr>\n",
       "  </thead>\n",
       "  <tbody>\n",
       "    <tr>\n",
       "      <th>0</th>\n",
       "      <td>0</td>\n",
       "      <td>-2.051853</td>\n",
       "      <td>111.826093</td>\n",
       "      <td>2001</td>\n",
       "      <td>train_test_data/train/1297.png</td>\n",
       "    </tr>\n",
       "    <tr>\n",
       "      <th>1</th>\n",
       "      <td>2</td>\n",
       "      <td>-1.989349</td>\n",
       "      <td>105.309496</td>\n",
       "      <td>2013</td>\n",
       "      <td>train_test_data/train/1199.png</td>\n",
       "    </tr>\n",
       "    <tr>\n",
       "      <th>2</th>\n",
       "      <td>0</td>\n",
       "      <td>1.223256</td>\n",
       "      <td>100.702217</td>\n",
       "      <td>2014</td>\n",
       "      <td>train_test_data/train/1348.png</td>\n",
       "    </tr>\n",
       "    <tr>\n",
       "      <th>3</th>\n",
       "      <td>0</td>\n",
       "      <td>-2.342948</td>\n",
       "      <td>103.890226</td>\n",
       "      <td>2008</td>\n",
       "      <td>train_test_data/train/2214.png</td>\n",
       "    </tr>\n",
       "    <tr>\n",
       "      <th>4</th>\n",
       "      <td>0</td>\n",
       "      <td>-0.126555</td>\n",
       "      <td>101.758175</td>\n",
       "      <td>2011</td>\n",
       "      <td>train_test_data/train/2220.png</td>\n",
       "    </tr>\n",
       "  </tbody>\n",
       "</table>\n",
       "</div>"
      ],
      "text/plain": [
       "   label  latitude   longitude  year                    example_path\n",
       "0      0 -2.051853  111.826093  2001  train_test_data/train/1297.png\n",
       "1      2 -1.989349  105.309496  2013  train_test_data/train/1199.png\n",
       "2      0  1.223256  100.702217  2014  train_test_data/train/1348.png\n",
       "3      0 -2.342948  103.890226  2008  train_test_data/train/2214.png\n",
       "4      0 -0.126555  101.758175  2011  train_test_data/train/2220.png"
      ]
     },
     "execution_count": 12,
     "metadata": {},
     "output_type": "execute_result"
    }
   ],
   "source": [
    "train_set.head()"
   ]
  },
  {
   "cell_type": "markdown",
   "metadata": {},
   "source": [
    "Create a new column where I concatenate *TRAIN_PATH* with *example_path* to look for each image later"
   ]
  },
  {
   "cell_type": "code",
   "execution_count": 13,
   "metadata": {},
   "outputs": [
    {
     "data": {
      "text/html": [
       "<div>\n",
       "<style scoped>\n",
       "    .dataframe tbody tr th:only-of-type {\n",
       "        vertical-align: middle;\n",
       "    }\n",
       "\n",
       "    .dataframe tbody tr th {\n",
       "        vertical-align: top;\n",
       "    }\n",
       "\n",
       "    .dataframe thead th {\n",
       "        text-align: right;\n",
       "    }\n",
       "</style>\n",
       "<table border=\"1\" class=\"dataframe\">\n",
       "  <thead>\n",
       "    <tr style=\"text-align: right;\">\n",
       "      <th></th>\n",
       "      <th>label</th>\n",
       "      <th>latitude</th>\n",
       "      <th>longitude</th>\n",
       "      <th>year</th>\n",
       "      <th>example_path</th>\n",
       "      <th>path</th>\n",
       "    </tr>\n",
       "  </thead>\n",
       "  <tbody>\n",
       "    <tr>\n",
       "      <th>0</th>\n",
       "      <td>0</td>\n",
       "      <td>-2.051853</td>\n",
       "      <td>111.826093</td>\n",
       "      <td>2001</td>\n",
       "      <td>train_test_data/train/1297.png</td>\n",
       "      <td>d:\\Bootcamp_22\\NUWE\\GENERAL_ELECTRIC\\Data\\trai...</td>\n",
       "    </tr>\n",
       "    <tr>\n",
       "      <th>1</th>\n",
       "      <td>2</td>\n",
       "      <td>-1.989349</td>\n",
       "      <td>105.309496</td>\n",
       "      <td>2013</td>\n",
       "      <td>train_test_data/train/1199.png</td>\n",
       "      <td>d:\\Bootcamp_22\\NUWE\\GENERAL_ELECTRIC\\Data\\trai...</td>\n",
       "    </tr>\n",
       "    <tr>\n",
       "      <th>2</th>\n",
       "      <td>0</td>\n",
       "      <td>1.223256</td>\n",
       "      <td>100.702217</td>\n",
       "      <td>2014</td>\n",
       "      <td>train_test_data/train/1348.png</td>\n",
       "      <td>d:\\Bootcamp_22\\NUWE\\GENERAL_ELECTRIC\\Data\\trai...</td>\n",
       "    </tr>\n",
       "    <tr>\n",
       "      <th>3</th>\n",
       "      <td>0</td>\n",
       "      <td>-2.342948</td>\n",
       "      <td>103.890226</td>\n",
       "      <td>2008</td>\n",
       "      <td>train_test_data/train/2214.png</td>\n",
       "      <td>d:\\Bootcamp_22\\NUWE\\GENERAL_ELECTRIC\\Data\\trai...</td>\n",
       "    </tr>\n",
       "    <tr>\n",
       "      <th>4</th>\n",
       "      <td>0</td>\n",
       "      <td>-0.126555</td>\n",
       "      <td>101.758175</td>\n",
       "      <td>2011</td>\n",
       "      <td>train_test_data/train/2220.png</td>\n",
       "      <td>d:\\Bootcamp_22\\NUWE\\GENERAL_ELECTRIC\\Data\\trai...</td>\n",
       "    </tr>\n",
       "  </tbody>\n",
       "</table>\n",
       "</div>"
      ],
      "text/plain": [
       "   label  latitude   longitude  year                    example_path  \\\n",
       "0      0 -2.051853  111.826093  2001  train_test_data/train/1297.png   \n",
       "1      2 -1.989349  105.309496  2013  train_test_data/train/1199.png   \n",
       "2      0  1.223256  100.702217  2014  train_test_data/train/1348.png   \n",
       "3      0 -2.342948  103.890226  2008  train_test_data/train/2214.png   \n",
       "4      0 -0.126555  101.758175  2011  train_test_data/train/2220.png   \n",
       "\n",
       "                                                path  \n",
       "0  d:\\Bootcamp_22\\NUWE\\GENERAL_ELECTRIC\\Data\\trai...  \n",
       "1  d:\\Bootcamp_22\\NUWE\\GENERAL_ELECTRIC\\Data\\trai...  \n",
       "2  d:\\Bootcamp_22\\NUWE\\GENERAL_ELECTRIC\\Data\\trai...  \n",
       "3  d:\\Bootcamp_22\\NUWE\\GENERAL_ELECTRIC\\Data\\trai...  \n",
       "4  d:\\Bootcamp_22\\NUWE\\GENERAL_ELECTRIC\\Data\\trai...  "
      ]
     },
     "execution_count": 13,
     "metadata": {},
     "output_type": "execute_result"
    }
   ],
   "source": [
    "train_set['path']=str(TRAIN_PATH)+train_set['example_path']\n",
    "train_set.head()"
   ]
  },
  {
   "cell_type": "markdown",
   "metadata": {},
   "source": [
    "I Check for possible duplicate images, in this reason I look for duplicated latitude components"
   ]
  },
  {
   "cell_type": "code",
   "execution_count": 14,
   "metadata": {},
   "outputs": [
    {
     "data": {
      "text/plain": [
       "-2.051853    1\n",
       "-3.612049    1\n",
       "-2.383134    1\n",
       "-1.492414    1\n",
       " 1.945733    1\n",
       "            ..\n",
       " 1.987288    1\n",
       " 0.697724    1\n",
       " 1.620516    1\n",
       " 1.135519    1\n",
       " 0.780981    1\n",
       "Name: latitude, Length: 1714, dtype: int64"
      ]
     },
     "execution_count": 14,
     "metadata": {},
     "output_type": "execute_result"
    }
   ],
   "source": [
    "train_set['latitude'].value_counts(ascending=False)"
   ]
  },
  {
   "cell_type": "markdown",
   "metadata": {},
   "source": [
    "I look for **how balance** is the label. The almost images are into *Plantation* or *Smallholder Agriculture*"
   ]
  },
  {
   "cell_type": "code",
   "execution_count": 15,
   "metadata": {},
   "outputs": [
    {
     "data": {
      "text/plain": [
       "0    0.501750\n",
       "2    0.383897\n",
       "1    0.114352\n",
       "Name: label, dtype: float64"
      ]
     },
     "execution_count": 15,
     "metadata": {},
     "output_type": "execute_result"
    }
   ],
   "source": [
    "train_set['label'].value_counts(ascending=False,normalize=True)"
   ]
  },
  {
   "cell_type": "code",
   "execution_count": 17,
   "metadata": {},
   "outputs": [],
   "source": [
    "image=imread(train_set['path'][0])                      # Loading images as arrays, this row ist an example to confirm correct code"
   ]
  },
  {
   "cell_type": "code",
   "execution_count": 18,
   "metadata": {},
   "outputs": [
    {
     "data": {
      "text/plain": [
       "array([[[45, 59, 56],\n",
       "        [40, 54, 51],\n",
       "        [29, 42, 39],\n",
       "        ...,\n",
       "        [18, 28, 17],\n",
       "        [18, 29, 17],\n",
       "        [20, 31, 19]],\n",
       "\n",
       "       [[49, 63, 60],\n",
       "        [43, 56, 52],\n",
       "        [30, 43, 39],\n",
       "        ...,\n",
       "        [21, 30, 21],\n",
       "        [21, 30, 19],\n",
       "        [19, 28, 14]],\n",
       "\n",
       "       [[43, 56, 53],\n",
       "        [33, 45, 38],\n",
       "        [24, 36, 29],\n",
       "        ...,\n",
       "        [33, 41, 33],\n",
       "        [28, 36, 23],\n",
       "        [24, 32, 18]],\n",
       "\n",
       "       ...,\n",
       "\n",
       "       [[18, 29, 28],\n",
       "        [18, 29, 27],\n",
       "        [19, 29, 28],\n",
       "        ...,\n",
       "        [20, 35, 23],\n",
       "        [20, 36, 27],\n",
       "        [21, 36, 27]],\n",
       "\n",
       "       [[18, 29, 28],\n",
       "        [18, 28, 28],\n",
       "        [19, 29, 29],\n",
       "        ...,\n",
       "        [19, 35, 25],\n",
       "        [20, 35, 30],\n",
       "        [20, 36, 30]],\n",
       "\n",
       "       [[15, 26, 26],\n",
       "        [19, 29, 29],\n",
       "        [19, 29, 29],\n",
       "        ...,\n",
       "        [19, 35, 24],\n",
       "        [19, 35, 26],\n",
       "        [21, 37, 29]]], dtype=uint8)"
      ]
     },
     "execution_count": 18,
     "metadata": {},
     "output_type": "execute_result"
    }
   ],
   "source": [
    "image"
   ]
  },
  {
   "cell_type": "code",
   "execution_count": 19,
   "metadata": {},
   "outputs": [],
   "source": [
    "images=train_set['path'].apply(imread)                                     "
   ]
  },
  {
   "cell_type": "code",
   "execution_count": 20,
   "metadata": {},
   "outputs": [
    {
     "data": {
      "text/plain": [
       "0       [[[45, 59, 56], [40, 54, 51], [29, 42, 39], [2...\n",
       "1       [[[18, 27, 10], [18, 27, 11], [11, 16, 1], [12...\n",
       "2       [[[27, 33, 19], [24, 28, 13], [18, 26, 10], [2...\n",
       "3       [[[16, 24, 13], [15, 23, 13], [19, 27, 16], [1...\n",
       "4       [[[35, 31, 14], [32, 30, 13], [37, 32, 15], [5...\n",
       "                              ...                        \n",
       "1709    [[[21, 30, 13], [20, 28, 15], [15, 25, 11], [1...\n",
       "1710    [[[26, 35, 23], [22, 32, 23], [22, 32, 23], [2...\n",
       "1711    [[[14, 24, 10], [10, 20, 6], [13, 23, 8], [13,...\n",
       "1712    [[[13, 23, 12], [13, 22, 10], [13, 22, 10], [1...\n",
       "1713    [[[11, 26, 8], [11, 25, 8], [11, 27, 9], [11, ...\n",
       "Name: path, Length: 1714, dtype: object"
      ]
     },
     "execution_count": 20,
     "metadata": {},
     "output_type": "execute_result"
    }
   ],
   "source": [
    "images                                                      "
   ]
  },
  {
   "cell_type": "code",
   "execution_count": 21,
   "metadata": {},
   "outputs": [
    {
     "data": {
      "text/plain": [
       "0       0\n",
       "1       2\n",
       "2       0\n",
       "3       0\n",
       "4       0\n",
       "       ..\n",
       "1709    0\n",
       "1710    0\n",
       "1711    1\n",
       "1712    2\n",
       "1713    2\n",
       "Name: label, Length: 1714, dtype: int64"
      ]
     },
     "execution_count": 21,
     "metadata": {},
     "output_type": "execute_result"
    }
   ],
   "source": [
    "train_set['label']"
   ]
  },
  {
   "cell_type": "code",
   "execution_count": 27,
   "metadata": {},
   "outputs": [
    {
     "data": {
      "text/plain": [
       "3"
      ]
     },
     "execution_count": 27,
     "metadata": {},
     "output_type": "execute_result"
    }
   ],
   "source": [
    "len(train_set['label'].unique())                            # How many labels are in the  Dataset?  3. I will use this code later"
   ]
  },
  {
   "cell_type": "markdown",
   "metadata": {},
   "source": [
    "## Defining X and y for modelling"
   ]
  },
  {
   "cell_type": "code",
   "execution_count": 22,
   "metadata": {},
   "outputs": [],
   "source": [
    "X=np.array(images.to_list())                                \n",
    "y=train_set['label']"
   ]
  },
  {
   "cell_type": "markdown",
   "metadata": {},
   "source": [
    "## Splitting train/test datas"
   ]
  },
  {
   "cell_type": "code",
   "execution_count": 55,
   "metadata": {},
   "outputs": [],
   "source": [
    "X_train, X_test, y_train, y_test = train_test_split(X, y, random_state = 20, test_size = 0.2)"
   ]
  },
  {
   "cell_type": "markdown",
   "metadata": {},
   "source": [
    "Verifying shape"
   ]
  },
  {
   "cell_type": "code",
   "execution_count": 56,
   "metadata": {},
   "outputs": [
    {
     "name": "stdout",
     "output_type": "stream",
     "text": [
      "(1371, 332, 332, 3)\n",
      "(1371,)\n"
     ]
    }
   ],
   "source": [
    "print(X_train.shape)\n",
    "print(y_train.shape)"
   ]
  },
  {
   "cell_type": "code",
   "execution_count": 57,
   "metadata": {},
   "outputs": [
    {
     "data": {
      "text/plain": [
       "1663    1\n",
       "918     1\n",
       "1366    2\n",
       "1257    0\n",
       "366     0\n",
       "       ..\n",
       "924     0\n",
       "1247    1\n",
       "271     0\n",
       "474     0\n",
       "1379    2\n",
       "Name: label, Length: 1371, dtype: int64"
      ]
     },
     "execution_count": 57,
     "metadata": {},
     "output_type": "execute_result"
    }
   ],
   "source": [
    "y_train"
   ]
  },
  {
   "cell_type": "markdown",
   "metadata": {},
   "source": [
    "Changing y to categorical "
   ]
  },
  {
   "cell_type": "code",
   "execution_count": 58,
   "metadata": {},
   "outputs": [],
   "source": [
    "y_train = to_categorical(y_train, num_classes = len(train_set['label'].unique()))\n",
    "y_test = to_categorical(y_test, num_classes = len(train_set['label'].unique()))"
   ]
  },
  {
   "cell_type": "code",
   "execution_count": 59,
   "metadata": {},
   "outputs": [
    {
     "data": {
      "text/plain": [
       "array([[0., 1., 0.],\n",
       "       [0., 1., 0.],\n",
       "       [0., 0., 1.],\n",
       "       ...,\n",
       "       [1., 0., 0.],\n",
       "       [1., 0., 0.],\n",
       "       [0., 0., 1.]], dtype=float32)"
      ]
     },
     "execution_count": 59,
     "metadata": {},
     "output_type": "execute_result"
    }
   ],
   "source": [
    "y_train"
   ]
  },
  {
   "cell_type": "code",
   "execution_count": 60,
   "metadata": {},
   "outputs": [],
   "source": [
    "X_train = X_train.reshape(X_train.shape[0], 332, 332, 3)\n",
    "X_test = X_test.reshape(X_test.shape[0], 332, 332, 3)"
   ]
  },
  {
   "cell_type": "code",
   "execution_count": 61,
   "metadata": {},
   "outputs": [
    {
     "name": "stdout",
     "output_type": "stream",
     "text": [
      "(1371, 332, 332, 3)\n"
     ]
    }
   ],
   "source": [
    "print(X_train.shape)"
   ]
  },
  {
   "cell_type": "markdown",
   "metadata": {},
   "source": [
    "Defining a ImageDataGenerator for increasing datas"
   ]
  },
  {
   "cell_type": "code",
   "execution_count": 63,
   "metadata": {},
   "outputs": [],
   "source": [
    "# Define our ImageDataGenerator for our X_Train\n",
    "train_gen = ImageDataGenerator(rescale=1./255,                        \n",
    "                               rotation_range = 10,              \n",
    "                               horizontal_flip = True,          \n",
    "                               width_shift_range=0.2,\n",
    "                               height_shift_range=0.2,\n",
    "                               shear_range=0.1,\n",
    "                               zoom_range=0.2,\n",
    "                               brightness_range=[0.2,1.2],\n",
    "                               fill_mode = 'nearest')\n",
    "\n",
    "# Define our ImageDataGenerator for our X_Train\n",
    "test_gen = ImageDataGenerator( \n",
    "    rescale=1./255)\n",
    "\n",
    "# Fit both train_gen and test_gen, with X_train and X_test\n",
    "train_gen.fit(X_train)\n",
    "test_gen.fit(X_test)"
   ]
  },
  {
   "cell_type": "code",
   "execution_count": 64,
   "metadata": {},
   "outputs": [],
   "source": [
    "train_flow = train_gen.flow(X_train, y_train, batch_size=BATCH_SIZE) \n",
    "test_flow = test_gen.flow(X_test, y_test, batch_size=BATCH_SIZE)"
   ]
  },
  {
   "cell_type": "code",
   "execution_count": 65,
   "metadata": {},
   "outputs": [
    {
     "data": {
      "text/plain": [
       "<keras.preprocessing.image.NumpyArrayIterator at 0x2a5c8aec7c0>"
      ]
     },
     "execution_count": 65,
     "metadata": {},
     "output_type": "execute_result"
    }
   ],
   "source": [
    "train_flow"
   ]
  },
  {
   "cell_type": "markdown",
   "metadata": {},
   "source": [
    "# Preparing a convolutional network. "
   ]
  },
  {
   "cell_type": "code",
   "execution_count": 72,
   "metadata": {},
   "outputs": [
    {
     "data": {
      "text/plain": [
       "(48, 48, 1)"
      ]
     },
     "execution_count": 72,
     "metadata": {},
     "output_type": "execute_result"
    }
   ],
   "source": [
    "IMAGE_SIZE"
   ]
  },
  {
   "cell_type": "markdown",
   "metadata": {},
   "source": [
    "This network contains 3 layers of convolutional, with Normalization and Dropout \n",
    "\n",
    "A Flatten layer\n",
    "\n",
    "3 Dense layers of with a dropout between each layer\n",
    "\n",
    "A final layer to give an output "
   ]
  },
  {
   "cell_type": "code",
   "execution_count": 74,
   "metadata": {},
   "outputs": [],
   "source": [
    "model = keras.Sequential([keras.layers.Input(shape=IMAGE_SIZE, name='input'),   # input\n",
    "\n",
    "                        keras.layers.Conv2D(64, kernel_size=3, activation='relu', padding='same'),   # first \n",
    "                        keras.layers.BatchNormalization(),\n",
    "                        keras.layers.MaxPooling2D(pool_size=(2,2)),\n",
    "                        keras.layers.Dropout(0.3),\n",
    "\n",
    "                        keras.layers.Conv2D(64, kernel_size=3, activation='relu', padding='same'),   # second \n",
    "                        keras.layers.BatchNormalization(),\n",
    "                        keras.layers.MaxPooling2D(pool_size=(2,2)),\n",
    "                        keras.layers.Dropout(0.3),\n",
    "\n",
    "\n",
    "                        keras.layers.Conv2D(64, kernel_size=3, activation='relu', padding='same'),   # third \n",
    "                        keras.layers.BatchNormalization(),\n",
    "                        keras.layers.MaxPooling2D(pool_size=(2,2)),\n",
    "                        keras.layers.Dropout(0.3),\n",
    "                        \n",
    "                        keras.layers.Flatten(),\n",
    "\n",
    "                        keras.layers.Dense(256, activation='relu'),\n",
    "                        keras.layers.Dropout(.50),\n",
    "                        keras.layers.Dense(128, activation='relu'),\n",
    "                        keras.layers.Dropout(.50),\n",
    "                        keras.layers.Dense(64, activation='relu'),\n",
    "\n",
    "\n",
    "                          keras.layers.Dense(len(np.unique(y)), activation='softmax')])  # flatten y output"
   ]
  },
  {
   "cell_type": "code",
   "execution_count": 75,
   "metadata": {},
   "outputs": [
    {
     "name": "stdout",
     "output_type": "stream",
     "text": [
      "Model: \"sequential_1\"\n",
      "_________________________________________________________________\n",
      " Layer (type)                Output Shape              Param #   \n",
      "=================================================================\n",
      " conv2d_3 (Conv2D)           (None, 332, 332, 64)      1792      \n",
      "                                                                 \n",
      " batch_normalization_3 (Batc  (None, 332, 332, 64)     256       \n",
      " hNormalization)                                                 \n",
      "                                                                 \n",
      " max_pooling2d_3 (MaxPooling  (None, 166, 166, 64)     0         \n",
      " 2D)                                                             \n",
      "                                                                 \n",
      " dropout_5 (Dropout)         (None, 166, 166, 64)      0         \n",
      "                                                                 \n",
      " conv2d_4 (Conv2D)           (None, 166, 166, 64)      36928     \n",
      "                                                                 \n",
      " batch_normalization_4 (Batc  (None, 166, 166, 64)     256       \n",
      " hNormalization)                                                 \n",
      "                                                                 \n",
      " max_pooling2d_4 (MaxPooling  (None, 83, 83, 64)       0         \n",
      " 2D)                                                             \n",
      "                                                                 \n",
      " dropout_6 (Dropout)         (None, 83, 83, 64)        0         \n",
      "                                                                 \n",
      " conv2d_5 (Conv2D)           (None, 83, 83, 64)        36928     \n",
      "                                                                 \n",
      " batch_normalization_5 (Batc  (None, 83, 83, 64)       256       \n",
      " hNormalization)                                                 \n",
      "                                                                 \n",
      " max_pooling2d_5 (MaxPooling  (None, 41, 41, 64)       0         \n",
      " 2D)                                                             \n",
      "                                                                 \n",
      " dropout_7 (Dropout)         (None, 41, 41, 64)        0         \n",
      "                                                                 \n",
      " flatten_1 (Flatten)         (None, 107584)            0         \n",
      "                                                                 \n",
      " dense_4 (Dense)             (None, 256)               27541760  \n",
      "                                                                 \n",
      " dropout_8 (Dropout)         (None, 256)               0         \n",
      "                                                                 \n",
      " dense_5 (Dense)             (None, 128)               32896     \n",
      "                                                                 \n",
      " dropout_9 (Dropout)         (None, 128)               0         \n",
      "                                                                 \n",
      " dense_6 (Dense)             (None, 64)                8256      \n",
      "                                                                 \n",
      " dense_7 (Dense)             (None, 3)                 195       \n",
      "                                                                 \n",
      "=================================================================\n",
      "Total params: 27,659,523\n",
      "Trainable params: 27,659,139\n",
      "Non-trainable params: 384\n",
      "_________________________________________________________________\n"
     ]
    }
   ],
   "source": [
    "model.summary()                             "
   ]
  },
  {
   "cell_type": "code",
   "execution_count": 76,
   "metadata": {},
   "outputs": [],
   "source": [
    "model.compile(optimizer = 'adam',                                           # Metemos el optimizador (a revisar en la documentación de Keras)\n",
    "             loss = 'categorical_crossentropy',                             # Metemos qué perdida usamos\n",
    "             metrics = ['accuracy'])                                        # Metemos la metrica a valorar"
   ]
  },
  {
   "cell_type": "code",
   "execution_count": 77,
   "metadata": {},
   "outputs": [],
   "source": [
    "earlystop = EarlyStopping(monitor='val_accuracy',\n",
    "                          patience=7,\n",
    "                          restore_best_weights=True)\n",
    "mcheckpoint = ModelCheckpoint(\"deforest_model_1.h5\", \n",
    "                              save_best_only=True, \n",
    "                              monitor='val_accuracy')\n",
    "\n",
    "callbacks = [earlystop,          # Create a list with the callbacks\n",
    "             mcheckpoint]"
   ]
  },
  {
   "cell_type": "code",
   "execution_count": 78,
   "metadata": {},
   "outputs": [
    {
     "name": "stdout",
     "output_type": "stream",
     "text": [
      "Epoch 1/40\n",
      "21/21 [==============================] - 1004s 46s/step - loss: 18.1082 - accuracy: 0.4165 - val_loss: 7.1515 - val_accuracy: 0.3673\n",
      "Epoch 2/40\n",
      "21/21 [==============================] - 820s 38s/step - loss: 10.1213 - accuracy: 0.3997 - val_loss: 4.1092 - val_accuracy: 0.3673\n",
      "Epoch 3/40\n",
      "21/21 [==============================] - 829s 39s/step - loss: 7.1332 - accuracy: 0.4245 - val_loss: 1.8423 - val_accuracy: 0.0991\n",
      "Epoch 4/40\n",
      "21/21 [==============================] - 771s 36s/step - loss: 3.2341 - accuracy: 0.4449 - val_loss: 1.6505 - val_accuracy: 0.0991\n",
      "Epoch 5/40\n",
      "21/21 [==============================] - 762s 35s/step - loss: 1.7967 - accuracy: 0.4077 - val_loss: 1.7065 - val_accuracy: 0.0991\n",
      "Epoch 6/40\n",
      "21/21 [==============================] - 1077s 50s/step - loss: 1.7512 - accuracy: 0.4347 - val_loss: 1.4779 - val_accuracy: 0.0991\n",
      "Epoch 7/40\n",
      "21/21 [==============================] - 938s 44s/step - loss: 1.4021 - accuracy: 0.4734 - val_loss: 1.6328 - val_accuracy: 0.0991\n",
      "Epoch 8/40\n",
      "21/21 [==============================] - 930s 44s/step - loss: 1.3682 - accuracy: 0.4792 - val_loss: 4.0195 - val_accuracy: 0.0991\n"
     ]
    }
   ],
   "source": [
    "history = model.fit(train_flow, \n",
    "                    steps_per_epoch=len(X_train) / BATCH_SIZE, \n",
    "                    epochs=EPOCHS,  \n",
    "                    verbose=1,  \n",
    "                    validation_data=test_flow,\n",
    "                    callbacks = callbacks)"
   ]
  },
  {
   "cell_type": "code",
   "execution_count": 79,
   "metadata": {},
   "outputs": [
    {
     "data": {
      "text/html": [
       "<div>\n",
       "<style scoped>\n",
       "    .dataframe tbody tr th:only-of-type {\n",
       "        vertical-align: middle;\n",
       "    }\n",
       "\n",
       "    .dataframe tbody tr th {\n",
       "        vertical-align: top;\n",
       "    }\n",
       "\n",
       "    .dataframe thead th {\n",
       "        text-align: right;\n",
       "    }\n",
       "</style>\n",
       "<table border=\"1\" class=\"dataframe\">\n",
       "  <thead>\n",
       "    <tr style=\"text-align: right;\">\n",
       "      <th></th>\n",
       "      <th>loss</th>\n",
       "      <th>accuracy</th>\n",
       "      <th>val_loss</th>\n",
       "      <th>val_accuracy</th>\n",
       "    </tr>\n",
       "  </thead>\n",
       "  <tbody>\n",
       "    <tr>\n",
       "      <th>0</th>\n",
       "      <td>18.108229</td>\n",
       "      <td>0.416484</td>\n",
       "      <td>7.151505</td>\n",
       "      <td>0.367347</td>\n",
       "    </tr>\n",
       "    <tr>\n",
       "      <th>1</th>\n",
       "      <td>10.121287</td>\n",
       "      <td>0.399708</td>\n",
       "      <td>4.109164</td>\n",
       "      <td>0.367347</td>\n",
       "    </tr>\n",
       "    <tr>\n",
       "      <th>2</th>\n",
       "      <td>7.133162</td>\n",
       "      <td>0.424508</td>\n",
       "      <td>1.842340</td>\n",
       "      <td>0.099125</td>\n",
       "    </tr>\n",
       "    <tr>\n",
       "      <th>3</th>\n",
       "      <td>3.234117</td>\n",
       "      <td>0.444931</td>\n",
       "      <td>1.650503</td>\n",
       "      <td>0.099125</td>\n",
       "    </tr>\n",
       "    <tr>\n",
       "      <th>4</th>\n",
       "      <td>1.796689</td>\n",
       "      <td>0.407732</td>\n",
       "      <td>1.706473</td>\n",
       "      <td>0.099125</td>\n",
       "    </tr>\n",
       "    <tr>\n",
       "      <th>5</th>\n",
       "      <td>1.751216</td>\n",
       "      <td>0.434719</td>\n",
       "      <td>1.477861</td>\n",
       "      <td>0.099125</td>\n",
       "    </tr>\n",
       "    <tr>\n",
       "      <th>6</th>\n",
       "      <td>1.402144</td>\n",
       "      <td>0.473377</td>\n",
       "      <td>1.632778</td>\n",
       "      <td>0.099125</td>\n",
       "    </tr>\n",
       "    <tr>\n",
       "      <th>7</th>\n",
       "      <td>1.368230</td>\n",
       "      <td>0.479212</td>\n",
       "      <td>4.019508</td>\n",
       "      <td>0.099125</td>\n",
       "    </tr>\n",
       "  </tbody>\n",
       "</table>\n",
       "</div>"
      ],
      "text/plain": [
       "        loss  accuracy  val_loss  val_accuracy\n",
       "0  18.108229  0.416484  7.151505      0.367347\n",
       "1  10.121287  0.399708  4.109164      0.367347\n",
       "2   7.133162  0.424508  1.842340      0.099125\n",
       "3   3.234117  0.444931  1.650503      0.099125\n",
       "4   1.796689  0.407732  1.706473      0.099125\n",
       "5   1.751216  0.434719  1.477861      0.099125\n",
       "6   1.402144  0.473377  1.632778      0.099125\n",
       "7   1.368230  0.479212  4.019508      0.099125"
      ]
     },
     "execution_count": 79,
     "metadata": {},
     "output_type": "execute_result"
    }
   ],
   "source": [
    "pd.DataFrame(history.history)                                           # DataFrame with results of fitting"
   ]
  },
  {
   "cell_type": "code",
   "execution_count": 80,
   "metadata": {},
   "outputs": [
    {
     "data": {
      "image/png": "[encoded data removed]",
      "text/plain": [
       "<Figure size 800x500 with 1 Axes>"
      ]
     },
     "metadata": {},
     "output_type": "display_data"
    }
   ],
   "source": [
    "pd.DataFrame(history.history).plot(figsize=(8, 5))                       # Visualization of dataframe\n",
    "#plt.grid(True)\n",
    "#plt.gca().set_ylim(0, 1) # set the vertical range to [0-1]\n",
    "plt.show(); "
   ]
  },
  {
   "cell_type": "code",
   "execution_count": 99,
   "metadata": {},
   "outputs": [
    {
     "name": "stdout",
     "output_type": "stream",
     "text": [
      "43/43 [==============================] - 66s 2s/step\n",
      "f_1_score_train 0.28126003026273555\n"
     ]
    }
   ],
   "source": [
    "y_prediction_neu=model.predict(X_train)\n",
    "y_prediction_neu\n",
    "f_1_score_model_neu=f1_score(np.argmax(y_train,axis=1),np.argmax(y_prediction_neu,axis=1),average='macro')\n",
    "print('f_1_score_train', f_1_score_model_neu)"
   ]
  },
  {
   "cell_type": "code",
   "execution_count": 98,
   "metadata": {},
   "outputs": [
    {
     "name": "stdout",
     "output_type": "stream",
     "text": [
      "11/11 [==============================] - 18s 2s/step\n",
      "f_1_score_test 0.2775700754287478\n"
     ]
    }
   ],
   "source": [
    "y_prediction_neu_test=model.predict(X_test)\n",
    "# y_prediction_neu\n",
    "f_1_score_model_neu_test=f1_score(np.argmax(y_test,axis=1),np.argmax(y_prediction_neu_test,axis=1),average='macro')\n",
    "print('f_1_score_test', f_1_score_model_neu_test)"
   ]
  },
  {
   "cell_type": "markdown",
   "metadata": {},
   "source": [
    "# Getting test files"
   ]
  },
  {
   "cell_type": "code",
   "execution_count": 129,
   "metadata": {},
   "outputs": [
    {
     "data": {
      "text/html": [
       "<div>\n",
       "<style scoped>\n",
       "    .dataframe tbody tr th:only-of-type {\n",
       "        vertical-align: middle;\n",
       "    }\n",
       "\n",
       "    .dataframe tbody tr th {\n",
       "        vertical-align: top;\n",
       "    }\n",
       "\n",
       "    .dataframe thead th {\n",
       "        text-align: right;\n",
       "    }\n",
       "</style>\n",
       "<table border=\"1\" class=\"dataframe\">\n",
       "  <thead>\n",
       "    <tr style=\"text-align: right;\">\n",
       "      <th></th>\n",
       "      <th>latitude</th>\n",
       "      <th>longitude</th>\n",
       "      <th>year</th>\n",
       "      <th>example_path</th>\n",
       "      <th>path</th>\n",
       "      <th>target</th>\n",
       "    </tr>\n",
       "  </thead>\n",
       "  <tbody>\n",
       "    <tr>\n",
       "      <th>0</th>\n",
       "      <td>0.761681</td>\n",
       "      <td>122.755954</td>\n",
       "      <td>2006</td>\n",
       "      <td>train_test_data/test/69.png</td>\n",
       "      <td>d:\\Bootcamp_22\\NUWE\\Zero_deforestation_mission...</td>\n",
       "      <td>0</td>\n",
       "    </tr>\n",
       "    <tr>\n",
       "      <th>1</th>\n",
       "      <td>-8.059785</td>\n",
       "      <td>113.053791</td>\n",
       "      <td>2007</td>\n",
       "      <td>train_test_data/test/469.png</td>\n",
       "      <td>d:\\Bootcamp_22\\NUWE\\Zero_deforestation_mission...</td>\n",
       "      <td>0</td>\n",
       "    </tr>\n",
       "    <tr>\n",
       "      <th>2</th>\n",
       "      <td>-2.006610</td>\n",
       "      <td>111.746316</td>\n",
       "      <td>2002</td>\n",
       "      <td>train_test_data/test/6.png</td>\n",
       "      <td>d:\\Bootcamp_22\\NUWE\\Zero_deforestation_mission...</td>\n",
       "      <td>0</td>\n",
       "    </tr>\n",
       "    <tr>\n",
       "      <th>3</th>\n",
       "      <td>0.901765</td>\n",
       "      <td>114.042495</td>\n",
       "      <td>2016</td>\n",
       "      <td>train_test_data/test/351.png</td>\n",
       "      <td>d:\\Bootcamp_22\\NUWE\\Zero_deforestation_mission...</td>\n",
       "      <td>0</td>\n",
       "    </tr>\n",
       "    <tr>\n",
       "      <th>4</th>\n",
       "      <td>1.911210</td>\n",
       "      <td>100.829633</td>\n",
       "      <td>2008</td>\n",
       "      <td>train_test_data/test/1001.png</td>\n",
       "      <td>d:\\Bootcamp_22\\NUWE\\Zero_deforestation_mission...</td>\n",
       "      <td>0</td>\n",
       "    </tr>\n",
       "  </tbody>\n",
       "</table>\n",
       "</div>"
      ],
      "text/plain": [
       "   latitude   longitude  year                   example_path  \\\n",
       "0  0.761681  122.755954  2006    train_test_data/test/69.png   \n",
       "1 -8.059785  113.053791  2007   train_test_data/test/469.png   \n",
       "2 -2.006610  111.746316  2002     train_test_data/test/6.png   \n",
       "3  0.901765  114.042495  2016   train_test_data/test/351.png   \n",
       "4  1.911210  100.829633  2008  train_test_data/test/1001.png   \n",
       "\n",
       "                                                path  target  \n",
       "0  d:\\Bootcamp_22\\NUWE\\Zero_deforestation_mission...       0  \n",
       "1  d:\\Bootcamp_22\\NUWE\\Zero_deforestation_mission...       0  \n",
       "2  d:\\Bootcamp_22\\NUWE\\Zero_deforestation_mission...       0  \n",
       "3  d:\\Bootcamp_22\\NUWE\\Zero_deforestation_mission...       0  \n",
       "4  d:\\Bootcamp_22\\NUWE\\Zero_deforestation_mission...       0  "
      ]
     },
     "execution_count": 129,
     "metadata": {},
     "output_type": "execute_result"
    }
   ],
   "source": [
    "test_set['path']=str(TEST_PATH)+test_set['example_path']\n",
    "test_set.head()"
   ]
  },
  {
   "cell_type": "code",
   "execution_count": 130,
   "metadata": {},
   "outputs": [
    {
     "data": {
      "text/plain": [
       "'d:\\\\Bootcamp_22\\\\NUWE\\\\Zero_deforestation_mission\\\\Data\\\\'"
      ]
     },
     "execution_count": 130,
     "metadata": {},
     "output_type": "execute_result"
    }
   ],
   "source": [
    "TEST_PATH"
   ]
  },
  {
   "cell_type": "code",
   "execution_count": 131,
   "metadata": {},
   "outputs": [],
   "source": [
    "images=test_set['path'].apply(imread)  "
   ]
  },
  {
   "cell_type": "code",
   "execution_count": 132,
   "metadata": {},
   "outputs": [
    {
     "data": {
      "text/plain": [
       "0      [[[16, 22, 1], [24, 26, 5], [20, 22, 5], [15, ...\n",
       "1      [[[21, 33, 9], [21, 32, 10], [26, 36, 14], [32...\n",
       "2      [[[13, 23, 8], [14, 25, 9], [15, 25, 10], [15,...\n",
       "3      [[[6, 16, 3], [1, 10, 0], [2, 12, 0], [8, 20, ...\n",
       "4      [[[31, 39, 27], [31, 37, 25], [28, 35, 22], [2...\n",
       "                             ...                        \n",
       "630    [[[36, 45, 26], [36, 45, 25], [36, 43, 23], [3...\n",
       "631    [[[23, 39, 49], [22, 38, 48], [21, 37, 47], [2...\n",
       "632    [[[19, 32, 16], [19, 32, 18], [16, 29, 15], [1...\n",
       "633    [[[21, 36, 16], [23, 39, 18], [22, 38, 16], [2...\n",
       "634    [[[22, 29, 16], [23, 32, 7], [26, 32, 9], [35,...\n",
       "Name: path, Length: 635, dtype: object"
      ]
     },
     "execution_count": 132,
     "metadata": {},
     "output_type": "execute_result"
    }
   ],
   "source": [
    "images"
   ]
  },
  {
   "cell_type": "code",
   "execution_count": 133,
   "metadata": {},
   "outputs": [],
   "source": [
    "X=np.array(images.to_list())  "
   ]
  },
  {
   "cell_type": "code",
   "execution_count": 134,
   "metadata": {},
   "outputs": [
    {
     "name": "stdout",
     "output_type": "stream",
     "text": [
      "20/20 [==============================] - 49s 2s/step\n"
     ]
    },
    {
     "data": {
      "text/plain": [
       "array([0, 0, 0, 0, 0, 2, 0, 0, 0, 0, 0, 2, 0, 0, 0, 0, 0, 0, 0, 0, 0, 0,\n",
       "       0, 2, 0, 0, 0, 0, 0, 0, 0, 0, 0, 0, 0, 0, 0, 0, 0, 0, 2, 0, 0, 0,\n",
       "       0, 0, 0, 2, 0, 0, 0, 2, 0, 0, 0, 0, 0, 0, 0, 2, 0, 0, 0, 0, 0, 2,\n",
       "       2, 0, 0, 0, 2, 0, 2, 0, 2, 2, 2, 2, 0, 2, 0, 0, 0, 0, 0, 0, 0, 0,\n",
       "       0, 0, 0, 0, 0, 0, 2, 0, 0, 0, 0, 0, 2, 0, 2, 0, 0, 2, 0, 0, 0, 0,\n",
       "       0, 2, 0, 0, 0, 0, 0, 2, 0, 0, 0, 0, 0, 0, 0, 0, 0, 0, 0, 0, 0, 0,\n",
       "       2, 0, 0, 0, 0, 0, 0, 0, 2, 0, 0, 0, 0, 2, 0, 0, 0, 0, 0, 2, 0, 0,\n",
       "       0, 2, 0, 0, 0, 2, 0, 2, 0, 2, 0, 0, 2, 2, 2, 0, 0, 0, 0, 0, 0, 0,\n",
       "       0, 2, 0, 0, 0, 0, 0, 2, 2, 0, 2, 0, 0, 2, 0, 0, 0, 2, 0, 0, 2, 2,\n",
       "       0, 0, 0, 0, 0, 0, 0, 0, 0, 2, 0, 2, 0, 0, 0, 0, 0, 0, 0, 0, 0, 0,\n",
       "       0, 0, 2, 2, 0, 0, 0, 0, 0, 0, 0, 0, 0, 0, 0, 0, 0, 2, 0, 0, 0, 0,\n",
       "       2, 0, 0, 0, 2, 2, 0, 0, 0, 0, 0, 0, 2, 2, 0, 0, 0, 2, 2, 0, 0, 0,\n",
       "       0, 0, 2, 0, 0, 0, 0, 0, 2, 0, 0, 0, 0, 0, 0, 0, 0, 0, 0, 2, 0, 0,\n",
       "       0, 2, 0, 0, 0, 0, 0, 0, 0, 0, 0, 0, 0, 0, 2, 0, 2, 0, 0, 0, 0, 2,\n",
       "       0, 0, 0, 0, 0, 0, 0, 0, 2, 0, 0, 0, 0, 0, 0, 0, 0, 0, 0, 0, 2, 0,\n",
       "       0, 0, 2, 0, 0, 0, 0, 0, 0, 0, 0, 0, 0, 2, 2, 0, 0, 0, 0, 0, 0, 0,\n",
       "       0, 2, 0, 2, 0, 0, 0, 2, 0, 2, 2, 0, 2, 0, 0, 0, 0, 0, 0, 0, 0, 0,\n",
       "       0, 0, 2, 0, 0, 0, 0, 0, 0, 0, 0, 0, 0, 0, 0, 0, 0, 0, 0, 0, 0, 0,\n",
       "       0, 2, 0, 0, 0, 0, 2, 0, 0, 0, 0, 0, 0, 0, 0, 0, 0, 2, 0, 0, 2, 0,\n",
       "       0, 0, 0, 0, 2, 2, 0, 0, 0, 0, 0, 0, 0, 0, 0, 2, 0, 0, 0, 0, 0, 0,\n",
       "       0, 0, 0, 0, 0, 0, 2, 0, 0, 0, 2, 0, 0, 0, 0, 2, 0, 0, 2, 0, 0, 0,\n",
       "       0, 0, 0, 0, 0, 2, 0, 2, 0, 0, 0, 0, 0, 0, 2, 0, 0, 0, 0, 0, 0, 0,\n",
       "       0, 2, 2, 0, 0, 2, 0, 0, 0, 2, 0, 0, 0, 2, 0, 2, 0, 2, 2, 0, 0, 0,\n",
       "       0, 0, 2, 0, 0, 0, 0, 2, 0, 0, 0, 2, 0, 0, 0, 0, 0, 0, 0, 0, 0, 0,\n",
       "       0, 0, 2, 0, 0, 0, 2, 0, 0, 0, 0, 0, 0, 2, 0, 0, 0, 0, 0, 0, 0, 0,\n",
       "       0, 0, 0, 0, 0, 0, 0, 2, 0, 0, 0, 0, 2, 0, 0, 0, 2, 2, 0, 0, 0, 0,\n",
       "       0, 0, 2, 0, 0, 0, 0, 0, 0, 0, 0, 0, 0, 0, 0, 0, 0, 0, 2, 0, 0, 0,\n",
       "       0, 2, 0, 0, 0, 0, 0, 0, 0, 0, 0, 0, 2, 0, 0, 0, 0, 0, 0, 0, 0, 0,\n",
       "       0, 0, 0, 0, 0, 0, 0, 0, 0, 0, 0, 0, 0, 0, 0, 0, 0, 2, 0],\n",
       "      dtype=int64)"
      ]
     },
     "execution_count": 134,
     "metadata": {},
     "output_type": "execute_result"
    }
   ],
   "source": [
    "predicciones = model.predict(np.array(images.to_list()))\n",
    "predicciones_labels = np.argmax(predicciones, axis=1)\n",
    "predicciones_labels\n"
   ]
  },
  {
   "cell_type": "code",
   "execution_count": 135,
   "metadata": {},
   "outputs": [
    {
     "data": {
      "text/html": [
       "<div>\n",
       "<style scoped>\n",
       "    .dataframe tbody tr th:only-of-type {\n",
       "        vertical-align: middle;\n",
       "    }\n",
       "\n",
       "    .dataframe tbody tr th {\n",
       "        vertical-align: top;\n",
       "    }\n",
       "\n",
       "    .dataframe thead th {\n",
       "        text-align: right;\n",
       "    }\n",
       "</style>\n",
       "<table border=\"1\" class=\"dataframe\">\n",
       "  <thead>\n",
       "    <tr style=\"text-align: right;\">\n",
       "      <th></th>\n",
       "      <th>latitude</th>\n",
       "      <th>longitude</th>\n",
       "      <th>year</th>\n",
       "      <th>example_path</th>\n",
       "      <th>path</th>\n",
       "      <th>target</th>\n",
       "    </tr>\n",
       "  </thead>\n",
       "  <tbody>\n",
       "    <tr>\n",
       "      <th>0</th>\n",
       "      <td>0.761681</td>\n",
       "      <td>122.755954</td>\n",
       "      <td>2006</td>\n",
       "      <td>train_test_data/test/69.png</td>\n",
       "      <td>d:\\Bootcamp_22\\NUWE\\Zero_deforestation_mission...</td>\n",
       "      <td>0</td>\n",
       "    </tr>\n",
       "    <tr>\n",
       "      <th>1</th>\n",
       "      <td>-8.059785</td>\n",
       "      <td>113.053791</td>\n",
       "      <td>2007</td>\n",
       "      <td>train_test_data/test/469.png</td>\n",
       "      <td>d:\\Bootcamp_22\\NUWE\\Zero_deforestation_mission...</td>\n",
       "      <td>0</td>\n",
       "    </tr>\n",
       "    <tr>\n",
       "      <th>2</th>\n",
       "      <td>-2.006610</td>\n",
       "      <td>111.746316</td>\n",
       "      <td>2002</td>\n",
       "      <td>train_test_data/test/6.png</td>\n",
       "      <td>d:\\Bootcamp_22\\NUWE\\Zero_deforestation_mission...</td>\n",
       "      <td>0</td>\n",
       "    </tr>\n",
       "    <tr>\n",
       "      <th>3</th>\n",
       "      <td>0.901765</td>\n",
       "      <td>114.042495</td>\n",
       "      <td>2016</td>\n",
       "      <td>train_test_data/test/351.png</td>\n",
       "      <td>d:\\Bootcamp_22\\NUWE\\Zero_deforestation_mission...</td>\n",
       "      <td>0</td>\n",
       "    </tr>\n",
       "    <tr>\n",
       "      <th>4</th>\n",
       "      <td>1.911210</td>\n",
       "      <td>100.829633</td>\n",
       "      <td>2008</td>\n",
       "      <td>train_test_data/test/1001.png</td>\n",
       "      <td>d:\\Bootcamp_22\\NUWE\\Zero_deforestation_mission...</td>\n",
       "      <td>0</td>\n",
       "    </tr>\n",
       "  </tbody>\n",
       "</table>\n",
       "</div>"
      ],
      "text/plain": [
       "   latitude   longitude  year                   example_path  \\\n",
       "0  0.761681  122.755954  2006    train_test_data/test/69.png   \n",
       "1 -8.059785  113.053791  2007   train_test_data/test/469.png   \n",
       "2 -2.006610  111.746316  2002     train_test_data/test/6.png   \n",
       "3  0.901765  114.042495  2016   train_test_data/test/351.png   \n",
       "4  1.911210  100.829633  2008  train_test_data/test/1001.png   \n",
       "\n",
       "                                                path  target  \n",
       "0  d:\\Bootcamp_22\\NUWE\\Zero_deforestation_mission...       0  \n",
       "1  d:\\Bootcamp_22\\NUWE\\Zero_deforestation_mission...       0  \n",
       "2  d:\\Bootcamp_22\\NUWE\\Zero_deforestation_mission...       0  \n",
       "3  d:\\Bootcamp_22\\NUWE\\Zero_deforestation_mission...       0  \n",
       "4  d:\\Bootcamp_22\\NUWE\\Zero_deforestation_mission...       0  "
      ]
     },
     "execution_count": 135,
     "metadata": {},
     "output_type": "execute_result"
    }
   ],
   "source": [
    "test_set['target']=predicciones_labels\n",
    "test_set.head()"
   ]
  },
  {
   "cell_type": "code",
   "execution_count": 136,
   "metadata": {},
   "outputs": [
    {
     "data": {
      "text/html": [
       "<div>\n",
       "<style scoped>\n",
       "    .dataframe tbody tr th:only-of-type {\n",
       "        vertical-align: middle;\n",
       "    }\n",
       "\n",
       "    .dataframe tbody tr th {\n",
       "        vertical-align: top;\n",
       "    }\n",
       "\n",
       "    .dataframe thead th {\n",
       "        text-align: right;\n",
       "    }\n",
       "</style>\n",
       "<table border=\"1\" class=\"dataframe\">\n",
       "  <thead>\n",
       "    <tr style=\"text-align: right;\">\n",
       "      <th></th>\n",
       "      <th>target</th>\n",
       "    </tr>\n",
       "  </thead>\n",
       "  <tbody>\n",
       "    <tr>\n",
       "      <th>0</th>\n",
       "      <td>0</td>\n",
       "    </tr>\n",
       "    <tr>\n",
       "      <th>1</th>\n",
       "      <td>0</td>\n",
       "    </tr>\n",
       "    <tr>\n",
       "      <th>2</th>\n",
       "      <td>0</td>\n",
       "    </tr>\n",
       "    <tr>\n",
       "      <th>3</th>\n",
       "      <td>0</td>\n",
       "    </tr>\n",
       "    <tr>\n",
       "      <th>4</th>\n",
       "      <td>0</td>\n",
       "    </tr>\n",
       "    <tr>\n",
       "      <th>...</th>\n",
       "      <td>...</td>\n",
       "    </tr>\n",
       "    <tr>\n",
       "      <th>630</th>\n",
       "      <td>0</td>\n",
       "    </tr>\n",
       "    <tr>\n",
       "      <th>631</th>\n",
       "      <td>0</td>\n",
       "    </tr>\n",
       "    <tr>\n",
       "      <th>632</th>\n",
       "      <td>0</td>\n",
       "    </tr>\n",
       "    <tr>\n",
       "      <th>633</th>\n",
       "      <td>2</td>\n",
       "    </tr>\n",
       "    <tr>\n",
       "      <th>634</th>\n",
       "      <td>0</td>\n",
       "    </tr>\n",
       "  </tbody>\n",
       "</table>\n",
       "<p>635 rows × 1 columns</p>\n",
       "</div>"
      ],
      "text/plain": [
       "     target\n",
       "0         0\n",
       "1         0\n",
       "2         0\n",
       "3         0\n",
       "4         0\n",
       "..      ...\n",
       "630       0\n",
       "631       0\n",
       "632       0\n",
       "633       2\n",
       "634       0\n",
       "\n",
       "[635 rows x 1 columns]"
      ]
     },
     "execution_count": 136,
     "metadata": {},
     "output_type": "execute_result"
    }
   ],
   "source": [
    "submission=pd.DataFrame()\n",
    "submission['target']=test_set['target']\n",
    "submission"
   ]
  },
  {
   "cell_type": "code",
   "execution_count": 145,
   "metadata": {},
   "outputs": [],
   "source": [
    "submission.to_csv(\"submission.csv\", header = False,index=False)"
   ]
  },
  {
   "cell_type": "code",
   "execution_count": 137,
   "metadata": {},
   "outputs": [
    {
     "data": {
      "text/plain": [
       "'{\"target\":{\"0\":0,\"1\":0,\"2\":0,\"3\":0,\"4\":0,\"5\":2,\"6\":0,\"7\":0,\"8\":0,\"9\":0,\"10\":0,\"11\":2,\"12\":0,\"13\":0,\"14\":0,\"15\":0,\"16\":0,\"17\":0,\"18\":0,\"19\":0,\"20\":0,\"21\":0,\"22\":0,\"23\":2,\"24\":0,\"25\":0,\"26\":0,\"27\":0,\"28\":0,\"29\":0,\"30\":0,\"31\":0,\"32\":0,\"33\":0,\"34\":0,\"35\":0,\"36\":0,\"37\":0,\"38\":0,\"39\":0,\"40\":2,\"41\":0,\"42\":0,\"43\":0,\"44\":0,\"45\":0,\"46\":0,\"47\":2,\"48\":0,\"49\":0,\"50\":0,\"51\":2,\"52\":0,\"53\":0,\"54\":0,\"55\":0,\"56\":0,\"57\":0,\"58\":0,\"59\":2,\"60\":0,\"61\":0,\"62\":0,\"63\":0,\"64\":0,\"65\":2,\"66\":2,\"67\":0,\"68\":0,\"69\":0,\"70\":2,\"71\":0,\"72\":2,\"73\":0,\"74\":2,\"75\":2,\"76\":2,\"77\":2,\"78\":0,\"79\":2,\"80\":0,\"81\":0,\"82\":0,\"83\":0,\"84\":0,\"85\":0,\"86\":0,\"87\":0,\"88\":0,\"89\":0,\"90\":0,\"91\":0,\"92\":0,\"93\":0,\"94\":2,\"95\":0,\"96\":0,\"97\":0,\"98\":0,\"99\":0,\"100\":2,\"101\":0,\"102\":2,\"103\":0,\"104\":0,\"105\":2,\"106\":0,\"107\":0,\"108\":0,\"109\":0,\"110\":0,\"111\":2,\"112\":0,\"113\":0,\"114\":0,\"115\":0,\"116\":0,\"117\":2,\"118\":0,\"119\":0,\"120\":0,\"121\":0,\"122\":0,\"123\":0,\"124\":0,\"125\":0,\"126\":0,\"127\":0,\"128\":0,\"129\":0,\"130\":0,\"131\":0,\"132\":2,\"133\":0,\"134\":0,\"135\":0,\"136\":0,\"137\":0,\"138\":0,\"139\":0,\"140\":2,\"141\":0,\"142\":0,\"143\":0,\"144\":0,\"145\":2,\"146\":0,\"147\":0,\"148\":0,\"149\":0,\"150\":0,\"151\":2,\"152\":0,\"153\":0,\"154\":0,\"155\":2,\"156\":0,\"157\":0,\"158\":0,\"159\":2,\"160\":0,\"161\":2,\"162\":0,\"163\":2,\"164\":0,\"165\":0,\"166\":2,\"167\":2,\"168\":2,\"169\":0,\"170\":0,\"171\":0,\"172\":0,\"173\":0,\"174\":0,\"175\":0,\"176\":0,\"177\":2,\"178\":0,\"179\":0,\"180\":0,\"181\":0,\"182\":0,\"183\":2,\"184\":2,\"185\":0,\"186\":2,\"187\":0,\"188\":0,\"189\":2,\"190\":0,\"191\":0,\"192\":0,\"193\":2,\"194\":0,\"195\":0,\"196\":2,\"197\":2,\"198\":0,\"199\":0,\"200\":0,\"201\":0,\"202\":0,\"203\":0,\"204\":0,\"205\":0,\"206\":0,\"207\":2,\"208\":0,\"209\":2,\"210\":0,\"211\":0,\"212\":0,\"213\":0,\"214\":0,\"215\":0,\"216\":0,\"217\":0,\"218\":0,\"219\":0,\"220\":0,\"221\":0,\"222\":2,\"223\":2,\"224\":0,\"225\":0,\"226\":0,\"227\":0,\"228\":0,\"229\":0,\"230\":0,\"231\":0,\"232\":0,\"233\":0,\"234\":0,\"235\":0,\"236\":0,\"237\":2,\"238\":0,\"239\":0,\"240\":0,\"241\":0,\"242\":2,\"243\":0,\"244\":0,\"245\":0,\"246\":2,\"247\":2,\"248\":0,\"249\":0,\"250\":0,\"251\":0,\"252\":0,\"253\":0,\"254\":2,\"255\":2,\"256\":0,\"257\":0,\"258\":0,\"259\":2,\"260\":2,\"261\":0,\"262\":0,\"263\":0,\"264\":0,\"265\":0,\"266\":2,\"267\":0,\"268\":0,\"269\":0,\"270\":0,\"271\":0,\"272\":2,\"273\":0,\"274\":0,\"275\":0,\"276\":0,\"277\":0,\"278\":0,\"279\":0,\"280\":0,\"281\":0,\"282\":0,\"283\":2,\"284\":0,\"285\":0,\"286\":0,\"287\":2,\"288\":0,\"289\":0,\"290\":0,\"291\":0,\"292\":0,\"293\":0,\"294\":0,\"295\":0,\"296\":0,\"297\":0,\"298\":0,\"299\":0,\"300\":2,\"301\":0,\"302\":2,\"303\":0,\"304\":0,\"305\":0,\"306\":0,\"307\":2,\"308\":0,\"309\":0,\"310\":0,\"311\":0,\"312\":0,\"313\":0,\"314\":0,\"315\":0,\"316\":2,\"317\":0,\"318\":0,\"319\":0,\"320\":0,\"321\":0,\"322\":0,\"323\":0,\"324\":0,\"325\":0,\"326\":0,\"327\":0,\"328\":2,\"329\":0,\"330\":0,\"331\":0,\"332\":2,\"333\":0,\"334\":0,\"335\":0,\"336\":0,\"337\":0,\"338\":0,\"339\":0,\"340\":0,\"341\":0,\"342\":0,\"343\":2,\"344\":2,\"345\":0,\"346\":0,\"347\":0,\"348\":0,\"349\":0,\"350\":0,\"351\":0,\"352\":0,\"353\":2,\"354\":0,\"355\":2,\"356\":0,\"357\":0,\"358\":0,\"359\":2,\"360\":0,\"361\":2,\"362\":2,\"363\":0,\"364\":2,\"365\":0,\"366\":0,\"367\":0,\"368\":0,\"369\":0,\"370\":0,\"371\":0,\"372\":0,\"373\":0,\"374\":0,\"375\":0,\"376\":2,\"377\":0,\"378\":0,\"379\":0,\"380\":0,\"381\":0,\"382\":0,\"383\":0,\"384\":0,\"385\":0,\"386\":0,\"387\":0,\"388\":0,\"389\":0,\"390\":0,\"391\":0,\"392\":0,\"393\":0,\"394\":0,\"395\":0,\"396\":0,\"397\":2,\"398\":0,\"399\":0,\"400\":0,\"401\":0,\"402\":2,\"403\":0,\"404\":0,\"405\":0,\"406\":0,\"407\":0,\"408\":0,\"409\":0,\"410\":0,\"411\":0,\"412\":0,\"413\":2,\"414\":0,\"415\":0,\"416\":2,\"417\":0,\"418\":0,\"419\":0,\"420\":0,\"421\":0,\"422\":2,\"423\":2,\"424\":0,\"425\":0,\"426\":0,\"427\":0,\"428\":0,\"429\":0,\"430\":0,\"431\":0,\"432\":0,\"433\":2,\"434\":0,\"435\":0,\"436\":0,\"437\":0,\"438\":0,\"439\":0,\"440\":0,\"441\":0,\"442\":0,\"443\":0,\"444\":0,\"445\":0,\"446\":2,\"447\":0,\"448\":0,\"449\":0,\"450\":2,\"451\":0,\"452\":0,\"453\":0,\"454\":0,\"455\":2,\"456\":0,\"457\":0,\"458\":2,\"459\":0,\"460\":0,\"461\":0,\"462\":0,\"463\":0,\"464\":0,\"465\":0,\"466\":0,\"467\":2,\"468\":0,\"469\":2,\"470\":0,\"471\":0,\"472\":0,\"473\":0,\"474\":0,\"475\":0,\"476\":2,\"477\":0,\"478\":0,\"479\":0,\"480\":0,\"481\":0,\"482\":0,\"483\":0,\"484\":0,\"485\":2,\"486\":2,\"487\":0,\"488\":0,\"489\":2,\"490\":0,\"491\":0,\"492\":0,\"493\":2,\"494\":0,\"495\":0,\"496\":0,\"497\":2,\"498\":0,\"499\":2,\"500\":0,\"501\":2,\"502\":2,\"503\":0,\"504\":0,\"505\":0,\"506\":0,\"507\":0,\"508\":2,\"509\":0,\"510\":0,\"511\":0,\"512\":0,\"513\":2,\"514\":0,\"515\":0,\"516\":0,\"517\":2,\"518\":0,\"519\":0,\"520\":0,\"521\":0,\"522\":0,\"523\":0,\"524\":0,\"525\":0,\"526\":0,\"527\":0,\"528\":0,\"529\":0,\"530\":2,\"531\":0,\"532\":0,\"533\":0,\"534\":2,\"535\":0,\"536\":0,\"537\":0,\"538\":0,\"539\":0,\"540\":0,\"541\":2,\"542\":0,\"543\":0,\"544\":0,\"545\":0,\"546\":0,\"547\":0,\"548\":0,\"549\":0,\"550\":0,\"551\":0,\"552\":0,\"553\":0,\"554\":0,\"555\":0,\"556\":0,\"557\":2,\"558\":0,\"559\":0,\"560\":0,\"561\":0,\"562\":2,\"563\":0,\"564\":0,\"565\":0,\"566\":2,\"567\":2,\"568\":0,\"569\":0,\"570\":0,\"571\":0,\"572\":0,\"573\":0,\"574\":2,\"575\":0,\"576\":0,\"577\":0,\"578\":0,\"579\":0,\"580\":0,\"581\":0,\"582\":0,\"583\":0,\"584\":0,\"585\":0,\"586\":0,\"587\":0,\"588\":0,\"589\":0,\"590\":2,\"591\":0,\"592\":0,\"593\":0,\"594\":0,\"595\":2,\"596\":0,\"597\":0,\"598\":0,\"599\":0,\"600\":0,\"601\":0,\"602\":0,\"603\":0,\"604\":0,\"605\":0,\"606\":2,\"607\":0,\"608\":0,\"609\":0,\"610\":0,\"611\":0,\"612\":0,\"613\":0,\"614\":0,\"615\":0,\"616\":0,\"617\":0,\"618\":0,\"619\":0,\"620\":0,\"621\":0,\"622\":0,\"623\":0,\"624\":0,\"625\":0,\"626\":0,\"627\":0,\"628\":0,\"629\":0,\"630\":0,\"631\":0,\"632\":0,\"633\":2,\"634\":0}}'"
      ]
     },
     "execution_count": 137,
     "metadata": {},
     "output_type": "execute_result"
    }
   ],
   "source": [
    "json_submit=submission.to_json(orient='columns')\n",
    "json_submit"
   ]
  },
  {
   "cell_type": "code",
   "execution_count": 139,
   "metadata": {},
   "outputs": [],
   "source": [
    "\n",
    "with open('json_submit.json', 'w') as file:\n",
    "    json.dump(json_submit, file)"
   ]
  }
 ],
 "metadata": {
  "kernelspec": {
   "display_name": "Python 3.10.8 64-bit (microsoft store)",
   "language": "python",
   "name": "python3"
  },
  "language_info": {
   "codemirror_mode": {
    "name": "ipython",
    "version": 3
   },
   "file_extension": ".py",
   "mimetype": "text/x-python",
   "name": "python",
   "nbconvert_exporter": "python",
   "pygments_lexer": "ipython3",
   "version": "3.10.8"
  },
  "orig_nbformat": 4,
  "vscode": {
   "interpreter": {
    "hash": "afde6861a040563f15a2ec1b440faf84809f9a7bcc3c75cfd11a60e7dd448719"
   }
  }
 },
 "nbformat": 4,
 "nbformat_minor": 2
}
